{
 "cells": [
  {
   "cell_type": "code",
   "execution_count": 30,
   "id": "c365670f-1cd3-442e-87df-3ddc89eac028",
   "metadata": {},
   "outputs": [
    {
     "name": "stdout",
     "output_type": "stream",
     "text": [
      "Collecting openvino-dev\n",
      "  Obtaining dependency information for openvino-dev from https://files.pythonhosted.org/packages/b1/2f/ce3387464d1f05a67b889f3b7bdc8cbce34224b34e4efc76bfe1a1c4f75f/openvino_dev-2024.6.0-17404-py3-none-any.whl.metadata\n",
      "  Downloading openvino_dev-2024.6.0-17404-py3-none-any.whl.metadata (15 kB)\n",
      "Requirement already satisfied: defusedxml>=0.7.1 in /opt/app-root/lib64/python3.11/site-packages (from openvino-dev) (0.8.0rc2)\n",
      "Collecting networkx<=3.1.0 (from openvino-dev)\n",
      "  Obtaining dependency information for networkx<=3.1.0 from https://files.pythonhosted.org/packages/a8/05/9d4f9b78ead6b2661d6e8ea772e111fc4a9fbd866ad0c81906c11206b55e/networkx-3.1-py3-none-any.whl.metadata\n",
      "  Downloading networkx-3.1-py3-none-any.whl.metadata (5.3 kB)\n",
      "Requirement already satisfied: numpy<2.0.0,>=1.16.6 in /opt/app-root/lib64/python3.11/site-packages (from openvino-dev) (1.26.4)\n",
      "Requirement already satisfied: openvino-telemetry>=2023.2.1 in /opt/app-root/lib64/python3.11/site-packages (from openvino-dev) (2025.1.0)\n",
      "Requirement already satisfied: packaging in /opt/app-root/lib64/python3.11/site-packages (from openvino-dev) (24.1)\n",
      "Requirement already satisfied: pyyaml>=5.4.1 in /opt/app-root/lib64/python3.11/site-packages (from openvino-dev) (6.0.2)\n",
      "Requirement already satisfied: requests>=2.25.1 in /opt/app-root/lib64/python3.11/site-packages (from openvino-dev) (2.32.3)\n",
      "Collecting openvino==2024.6.0 (from openvino-dev)\n",
      "  Obtaining dependency information for openvino==2024.6.0 from https://files.pythonhosted.org/packages/6b/c4/ec78885d4046511892dc55ba3013787044381fb6e5a1fd0373b0fb7c1e98/openvino-2024.6.0-17404-cp311-cp311-manylinux2014_x86_64.whl.metadata\n",
      "  Downloading openvino-2024.6.0-17404-cp311-cp311-manylinux2014_x86_64.whl.metadata (8.3 kB)\n",
      "Requirement already satisfied: charset-normalizer<4,>=2 in /opt/app-root/lib64/python3.11/site-packages (from requests>=2.25.1->openvino-dev) (3.4.0)\n",
      "Requirement already satisfied: idna<4,>=2.5 in /opt/app-root/lib64/python3.11/site-packages (from requests>=2.25.1->openvino-dev) (3.10)\n",
      "Requirement already satisfied: urllib3<3,>=1.21.1 in /opt/app-root/lib64/python3.11/site-packages (from requests>=2.25.1->openvino-dev) (1.26.20)\n",
      "Requirement already satisfied: certifi>=2017.4.17 in /opt/app-root/lib64/python3.11/site-packages (from requests>=2.25.1->openvino-dev) (2024.8.30)\n",
      "Downloading openvino_dev-2024.6.0-17404-py3-none-any.whl (4.6 MB)\n",
      "\u001b[2K   \u001b[90m━━━━━━━━━━━━━━━━━━━━━━━━━━━━━━━━━━━━━━━━\u001b[0m \u001b[32m4.6/4.6 MB\u001b[0m \u001b[31m77.0 MB/s\u001b[0m eta \u001b[36m0:00:00\u001b[0ma \u001b[36m0:00:01\u001b[0m\n",
      "\u001b[?25hDownloading openvino-2024.6.0-17404-cp311-cp311-manylinux2014_x86_64.whl (44.7 MB)\n",
      "\u001b[2K   \u001b[90m━━━━━━━━━━━━━━━━━━━━━━━━━━━━━━━━━━━━━━━━\u001b[0m \u001b[32m44.7/44.7 MB\u001b[0m \u001b[31m196.5 MB/s\u001b[0m eta \u001b[36m0:00:00\u001b[0ma \u001b[36m0:00:01\u001b[0m\n",
      "\u001b[?25hDownloading networkx-3.1-py3-none-any.whl (2.1 MB)\n",
      "\u001b[2K   \u001b[90m━━━━━━━━━━━━━━━━━━━━━━━━━━━━━━━━━━━━━━━━\u001b[0m \u001b[32m2.1/2.1 MB\u001b[0m \u001b[31m218.3 MB/s\u001b[0m eta \u001b[36m0:00:00\u001b[0m\n",
      "\u001b[?25hInstalling collected packages: openvino, networkx, openvino-dev\n",
      "  Attempting uninstall: openvino\n",
      "    Found existing installation: openvino 2025.0.0\n",
      "    Uninstalling openvino-2025.0.0:\n",
      "      Successfully uninstalled openvino-2025.0.0\n",
      "  Attempting uninstall: networkx\n",
      "    Found existing installation: networkx 3.4.2\n",
      "    Uninstalling networkx-3.4.2:\n",
      "      Successfully uninstalled networkx-3.4.2\n",
      "Successfully installed networkx-3.1 openvino-2024.6.0 openvino-dev-2024.6.0\n",
      "\n",
      "\u001b[1m[\u001b[0m\u001b[34;49mnotice\u001b[0m\u001b[1;39;49m]\u001b[0m\u001b[39;49m A new release of pip is available: \u001b[0m\u001b[31;49m23.2.1\u001b[0m\u001b[39;49m -> \u001b[0m\u001b[32;49m25.0.1\u001b[0m\n",
      "\u001b[1m[\u001b[0m\u001b[34;49mnotice\u001b[0m\u001b[1;39;49m]\u001b[0m\u001b[39;49m To update, run: \u001b[0m\u001b[32;49mpip install --upgrade pip\u001b[0m\n"
     ]
    }
   ],
   "source": [
    "!pip install openvino-dev"
   ]
  },
  {
   "cell_type": "code",
   "execution_count": 27,
   "id": "36c70e60-8e88-48d7-8a45-c58911663e60",
   "metadata": {},
   "outputs": [
    {
     "ename": "ImportError",
     "evalue": "cannot import name 'mo' from 'openvino' (/opt/app-root/lib64/python3.11/site-packages/openvino/__init__.py)",
     "output_type": "error",
     "traceback": [
      "\u001b[0;31m---------------------------------------------------------------------------\u001b[0m",
      "\u001b[0;31mImportError\u001b[0m                               Traceback (most recent call last)",
      "Cell \u001b[0;32mIn[27], line 15\u001b[0m\n\u001b[1;32m     13\u001b[0m \u001b[38;5;28;01mimport\u001b[39;00m \u001b[38;5;21;01mtensorflow\u001b[39;00m \u001b[38;5;28;01mas\u001b[39;00m \u001b[38;5;21;01mtf\u001b[39;00m\n\u001b[1;32m     14\u001b[0m \u001b[38;5;28;01mfrom\u001b[39;00m \u001b[38;5;21;01mtensorflow\u001b[39;00m \u001b[38;5;28;01mimport\u001b[39;00m keras\n\u001b[0;32m---> 15\u001b[0m \u001b[38;5;28;01mfrom\u001b[39;00m \u001b[38;5;21;01mopenvino\u001b[39;00m \u001b[38;5;28;01mimport\u001b[39;00m mo\n",
      "\u001b[0;31mImportError\u001b[0m: cannot import name 'mo' from 'openvino' (/opt/app-root/lib64/python3.11/site-packages/openvino/__init__.py)"
     ]
    }
   ],
   "source": [
    "import pandas as pd\n",
    "from sklearn.model_selection import train_test_split\n",
    "from sklearn.preprocessing import StandardScaler\n",
    "import tensorflow as tf\n",
    "from tensorflow import keras"
   ]
  },
  {
   "cell_type": "code",
   "execution_count": 4,
   "id": "1f9b0f74-9aa3-459d-8c80-d07eadfd8033",
   "metadata": {},
   "outputs": [
    {
     "name": "stdout",
     "output_type": "stream",
     "text": [
      "                            timestamp  batteryId  ambientTemp  batteryCurrent  \\\n",
      "0    2025-02-12 14:26:34.190000+00:00          1        18.65           78.06   \n",
      "1    2025-02-12 14:26:37.025000+00:00          1        18.36           81.42   \n",
      "2    2025-02-12 14:26:40.020000+00:00          1        18.17           75.76   \n",
      "3    2025-02-12 14:26:43.024000+00:00          1        18.50           72.11   \n",
      "4    2025-02-12 14:26:46.023000+00:00          1        18.12           73.72   \n",
      "..                                ...        ...          ...             ...   \n",
      "501  2025-02-12 14:51:53.470000+00:00          1        19.29           55.85   \n",
      "502  2025-02-12 14:51:56.469000+00:00          1        19.43           64.87   \n",
      "503  2025-02-12 14:51:59.469000+00:00          1        19.73           55.13   \n",
      "504  2025-02-12 14:52:02.469000+00:00          1        19.86           44.47   \n",
      "505  2025-02-12 14:52:05.475000+00:00          1        20.05           42.55   \n",
      "\n",
      "     batteryTemp  batteryVoltage  distance     kmh  stateOfCharge  \\\n",
      "0          25.22          396.39      0.20  127.75         0.9991   \n",
      "1          25.33          396.23      0.31  130.46         0.9986   \n",
      "2          25.39          396.49      0.42  125.59         0.9981   \n",
      "3          25.44          396.66      0.52  122.42         0.9977   \n",
      "4          25.47          396.58      0.62  123.87         0.9972   \n",
      "..           ...             ...       ...     ...            ...   \n",
      "501        25.45          397.41      1.38  108.40         0.9941   \n",
      "502        25.45          396.99      1.48  116.17         0.9937   \n",
      "503        25.43          397.44      1.57  107.77         0.9934   \n",
      "504        25.39          397.94      1.65   98.91         0.9931   \n",
      "505        25.36          398.02      1.73   96.44         0.9928   \n",
      "\n",
      "     stateOfHealth  \n",
      "0          99.9998  \n",
      "1          99.9997  \n",
      "2          99.9996  \n",
      "3          99.9995  \n",
      "4          99.9994  \n",
      "..             ...  \n",
      "501        99.9986  \n",
      "502        99.9985  \n",
      "503        99.9984  \n",
      "504        99.9983  \n",
      "505        99.9982  \n",
      "\n",
      "[506 rows x 10 columns]\n"
     ]
    }
   ],
   "source": [
    "# Simulated battery data\n",
    "'''\n",
    "data = [\n",
    "    {\"batteryId\": 1, \"stateOfCharge\": 0.4384, \"stateOfHealth\": 98.00, \"batteryCurrent\": 349.57, \"batteryVoltage\": 397.63,\n",
    "     \"kmh\": 234.00, \"distance\": 79.35, \"batteryTemp\": 0.00, \"ambientTemp\": 20.40},\n",
    "    {\"batteryId\": 2, \"stateOfCharge\": 0.1234, \"stateOfHealth\": 95.00, \"batteryCurrent\": 500.00, \"batteryVoltage\": 350.00,\n",
    "     \"kmh\": 200.00, \"distance\": 100.50, \"batteryTemp\": 60.00, \"ambientTemp\": 25.40},\n",
    "    {\"batteryId\": 3, \"stateOfCharge\": 0.7684, \"stateOfHealth\": 99.00, \"batteryCurrent\": 200.00, \"batteryVoltage\": 400.00,\n",
    "     \"kmh\": 180.00, \"distance\": 120.00, \"batteryTemp\": 30.00, \"ambientTemp\": 20.00},\n",
    "]\n",
    "'''\n",
    "\n",
    "# Read the data from file\n",
    "df = pd.read_csv(\"./data/battery_data.csv\")\n",
    "\n",
    "print(df)"
   ]
  },
  {
   "cell_type": "code",
   "execution_count": 5,
   "id": "e01742ed-852e-4399-ab26-3205b33bf491",
   "metadata": {},
   "outputs": [
    {
     "name": "stdout",
     "output_type": "stream",
     "text": [
      "                            timestamp  batteryId  ambientTemp  batteryCurrent  \\\n",
      "0    2025-02-12 14:26:34.190000+00:00          1        18.65           78.06   \n",
      "1    2025-02-12 14:26:37.025000+00:00          1        18.36           81.42   \n",
      "2    2025-02-12 14:26:40.020000+00:00          1        18.17           75.76   \n",
      "3    2025-02-12 14:26:43.024000+00:00          1        18.50           72.11   \n",
      "4    2025-02-12 14:26:46.023000+00:00          1        18.12           73.72   \n",
      "..                                ...        ...          ...             ...   \n",
      "501  2025-02-12 14:51:53.470000+00:00          1        19.29           55.85   \n",
      "502  2025-02-12 14:51:56.469000+00:00          1        19.43           64.87   \n",
      "503  2025-02-12 14:51:59.469000+00:00          1        19.73           55.13   \n",
      "504  2025-02-12 14:52:02.469000+00:00          1        19.86           44.47   \n",
      "505  2025-02-12 14:52:05.475000+00:00          1        20.05           42.55   \n",
      "\n",
      "     batteryTemp  batteryVoltage  distance     kmh  stateOfCharge  \\\n",
      "0          25.22          396.39      0.20  127.75         0.9991   \n",
      "1          25.33          396.23      0.31  130.46         0.9986   \n",
      "2          25.39          396.49      0.42  125.59         0.9981   \n",
      "3          25.44          396.66      0.52  122.42         0.9977   \n",
      "4          25.47          396.58      0.62  123.87         0.9972   \n",
      "..           ...             ...       ...     ...            ...   \n",
      "501        25.45          397.41      1.38  108.40         0.9941   \n",
      "502        25.45          396.99      1.48  116.17         0.9937   \n",
      "503        25.43          397.44      1.57  107.77         0.9934   \n",
      "504        25.39          397.94      1.65   98.91         0.9931   \n",
      "505        25.36          398.02      1.73   96.44         0.9928   \n",
      "\n",
      "     stateOfHealth  stressIndicator  \n",
      "0          99.9998                0  \n",
      "1          99.9997                0  \n",
      "2          99.9996                0  \n",
      "3          99.9995                0  \n",
      "4          99.9994                0  \n",
      "..             ...              ...  \n",
      "501        99.9986                0  \n",
      "502        99.9985                0  \n",
      "503        99.9984                0  \n",
      "504        99.9983                0  \n",
      "505        99.9982                0  \n",
      "\n",
      "[506 rows x 11 columns]\n"
     ]
    }
   ],
   "source": [
    "# Define stress condition (1 = Stress, 0 = Normal)\n",
    "def detect_stress(row):\n",
    "    if row[\"batteryCurrent\"] > 400 or row[\"batteryTemp\"] > 50 or row[\"stateOfCharge\"] < 0.05 or row[\"batteryVoltage\"] < 320:\n",
    "        return 1  # Stress condition\n",
    "    return 0  # Normal condition\n",
    "\n",
    "\n",
    "# Apply stress detection\n",
    "df[\"stressIndicator\"] = df.apply(detect_stress, axis=1)\n",
    "\n",
    "print(df)"
   ]
  },
  {
   "cell_type": "code",
   "execution_count": 10,
   "id": "09a4a6ea-de73-4c02-a875-aa4c3fab42a4",
   "metadata": {},
   "outputs": [
    {
     "name": "stdout",
     "output_type": "stream",
     "text": [
      "Total stress events detected: 195\n"
     ]
    }
   ],
   "source": [
    "# Count the number of stress events\n",
    "stress_count = df[\"stressIndicator\"].sum()\n",
    "\n",
    "print(f\"Total stress events detected: {stress_count}\")"
   ]
  },
  {
   "cell_type": "code",
   "execution_count": 11,
   "id": "5a2924f2-d093-4b38-a3f9-84923940c816",
   "metadata": {},
   "outputs": [],
   "source": [
    "# Define Features and Target\n",
    "features = [\"stateOfCharge\", \"stateOfHealth\", \"batteryCurrent\", \"batteryVoltage\", \"kmh\", \"distance\", \"batteryTemp\", \"ambientTemp\"]\n",
    "X = df[features]\n",
    "y = df[\"stressIndicator\"]"
   ]
  },
  {
   "cell_type": "code",
   "execution_count": 14,
   "id": "fe888102-e34c-476f-a81b-781f22c95375",
   "metadata": {},
   "outputs": [],
   "source": [
    "# Split Data\n",
    "X_train, X_test, y_train, y_test = train_test_split(X, y, test_size=0.2, random_state=42)\n",
    "\n",
    "# Normalize data\n",
    "scaler = StandardScaler()\n",
    "X_train_scaled = scaler.fit_transform(X_train)\n",
    "X_test_scaled = scaler.transform(X_test)"
   ]
  },
  {
   "cell_type": "code",
   "execution_count": 17,
   "id": "e4f2dc01-f0e5-49ab-bd27-36b21900dc6b",
   "metadata": {},
   "outputs": [],
   "source": [
    "# Define neural network\n",
    "mlp_tf = keras.Sequential([\n",
    "    keras.layers.Input(shape=(X_train.shape[1],)),\n",
    "    keras.layers.Dense(64, activation='relu'),\n",
    "    keras.layers.Dense(32, activation='relu'),\n",
    "    keras.layers.Dense(1, activation='sigmoid')\n",
    "])\n",
    "\n",
    "# Compile model\n",
    "mlp_tf.compile(optimizer='adam', loss='binary_crossentropy', metrics=['accuracy'])"
   ]
  },
  {
   "cell_type": "code",
   "execution_count": 18,
   "id": "f5dbfe85-920e-4a24-9ec0-338dfbb9cfd2",
   "metadata": {},
   "outputs": [
    {
     "name": "stdout",
     "output_type": "stream",
     "text": [
      "Epoch 1/50\n",
      "12/12 - 2s - 135ms/step - accuracy: 0.8237 - loss: 0.5652 - val_accuracy: 0.9024 - val_loss: 0.4728\n",
      "Epoch 2/50\n",
      "12/12 - 0s - 4ms/step - accuracy: 0.8705 - loss: 0.4130 - val_accuracy: 0.9024 - val_loss: 0.3735\n",
      "Epoch 3/50\n",
      "12/12 - 0s - 4ms/step - accuracy: 0.9174 - loss: 0.3223 - val_accuracy: 0.9268 - val_loss: 0.3065\n",
      "Epoch 4/50\n",
      "12/12 - 0s - 4ms/step - accuracy: 0.9449 - loss: 0.2588 - val_accuracy: 0.9268 - val_loss: 0.2570\n",
      "Epoch 5/50\n",
      "12/12 - 0s - 4ms/step - accuracy: 0.9642 - loss: 0.2098 - val_accuracy: 0.9268 - val_loss: 0.2203\n",
      "Epoch 6/50\n",
      "12/12 - 0s - 5ms/step - accuracy: 0.9697 - loss: 0.1712 - val_accuracy: 0.9512 - val_loss: 0.1935\n",
      "Epoch 7/50\n",
      "12/12 - 0s - 4ms/step - accuracy: 0.9780 - loss: 0.1404 - val_accuracy: 0.9268 - val_loss: 0.1763\n",
      "Epoch 8/50\n",
      "12/12 - 0s - 4ms/step - accuracy: 0.9669 - loss: 0.1181 - val_accuracy: 0.9268 - val_loss: 0.1666\n",
      "Epoch 9/50\n",
      "12/12 - 0s - 4ms/step - accuracy: 0.9697 - loss: 0.1021 - val_accuracy: 0.9268 - val_loss: 0.1614\n",
      "Epoch 10/50\n",
      "12/12 - 0s - 4ms/step - accuracy: 0.9697 - loss: 0.0889 - val_accuracy: 0.9268 - val_loss: 0.1557\n",
      "Epoch 11/50\n",
      "12/12 - 0s - 4ms/step - accuracy: 0.9697 - loss: 0.0790 - val_accuracy: 0.9268 - val_loss: 0.1517\n",
      "Epoch 12/50\n",
      "12/12 - 0s - 4ms/step - accuracy: 0.9725 - loss: 0.0724 - val_accuracy: 0.9268 - val_loss: 0.1495\n",
      "Epoch 13/50\n",
      "12/12 - 0s - 4ms/step - accuracy: 0.9697 - loss: 0.0660 - val_accuracy: 0.9024 - val_loss: 0.1571\n",
      "Epoch 14/50\n",
      "12/12 - 0s - 4ms/step - accuracy: 0.9697 - loss: 0.0612 - val_accuracy: 0.9268 - val_loss: 0.1549\n",
      "Epoch 15/50\n",
      "12/12 - 0s - 4ms/step - accuracy: 0.9752 - loss: 0.0574 - val_accuracy: 0.9268 - val_loss: 0.1518\n",
      "Epoch 16/50\n",
      "12/12 - 0s - 4ms/step - accuracy: 0.9780 - loss: 0.0546 - val_accuracy: 0.9268 - val_loss: 0.1532\n",
      "Epoch 17/50\n",
      "12/12 - 0s - 4ms/step - accuracy: 0.9780 - loss: 0.0523 - val_accuracy: 0.9268 - val_loss: 0.1493\n",
      "Epoch 18/50\n",
      "12/12 - 0s - 4ms/step - accuracy: 0.9807 - loss: 0.0493 - val_accuracy: 0.9268 - val_loss: 0.1490\n",
      "Epoch 19/50\n",
      "12/12 - 0s - 4ms/step - accuracy: 0.9807 - loss: 0.0476 - val_accuracy: 0.9268 - val_loss: 0.1490\n",
      "Epoch 20/50\n",
      "12/12 - 0s - 4ms/step - accuracy: 0.9807 - loss: 0.0461 - val_accuracy: 0.9512 - val_loss: 0.1448\n",
      "Epoch 21/50\n",
      "12/12 - 0s - 4ms/step - accuracy: 0.9752 - loss: 0.0457 - val_accuracy: 0.9268 - val_loss: 0.1444\n",
      "Epoch 22/50\n",
      "12/12 - 0s - 4ms/step - accuracy: 0.9835 - loss: 0.0418 - val_accuracy: 0.9512 - val_loss: 0.1428\n",
      "Epoch 23/50\n",
      "12/12 - 0s - 4ms/step - accuracy: 0.9890 - loss: 0.0412 - val_accuracy: 0.9512 - val_loss: 0.1412\n",
      "Epoch 24/50\n",
      "12/12 - 0s - 4ms/step - accuracy: 0.9890 - loss: 0.0398 - val_accuracy: 0.9512 - val_loss: 0.1398\n",
      "Epoch 25/50\n",
      "12/12 - 0s - 4ms/step - accuracy: 0.9835 - loss: 0.0384 - val_accuracy: 0.9512 - val_loss: 0.1388\n",
      "Epoch 26/50\n",
      "12/12 - 0s - 4ms/step - accuracy: 0.9945 - loss: 0.0371 - val_accuracy: 0.9512 - val_loss: 0.1375\n",
      "Epoch 27/50\n",
      "12/12 - 0s - 4ms/step - accuracy: 0.9890 - loss: 0.0368 - val_accuracy: 0.9512 - val_loss: 0.1373\n",
      "Epoch 28/50\n",
      "12/12 - 0s - 4ms/step - accuracy: 0.9890 - loss: 0.0346 - val_accuracy: 0.9512 - val_loss: 0.1363\n",
      "Epoch 29/50\n",
      "12/12 - 0s - 4ms/step - accuracy: 0.9945 - loss: 0.0342 - val_accuracy: 0.9512 - val_loss: 0.1346\n",
      "Epoch 30/50\n",
      "12/12 - 0s - 4ms/step - accuracy: 0.9862 - loss: 0.0340 - val_accuracy: 0.9512 - val_loss: 0.1351\n",
      "Epoch 31/50\n",
      "12/12 - 0s - 4ms/step - accuracy: 0.9890 - loss: 0.0316 - val_accuracy: 0.9512 - val_loss: 0.1334\n",
      "Epoch 32/50\n",
      "12/12 - 0s - 5ms/step - accuracy: 0.9972 - loss: 0.0320 - val_accuracy: 0.9512 - val_loss: 0.1329\n",
      "Epoch 33/50\n",
      "12/12 - 0s - 4ms/step - accuracy: 0.9972 - loss: 0.0309 - val_accuracy: 0.9512 - val_loss: 0.1302\n",
      "Epoch 34/50\n",
      "12/12 - 0s - 4ms/step - accuracy: 0.9972 - loss: 0.0301 - val_accuracy: 0.9512 - val_loss: 0.1271\n",
      "Epoch 35/50\n",
      "12/12 - 0s - 4ms/step - accuracy: 0.9972 - loss: 0.0285 - val_accuracy: 0.9512 - val_loss: 0.1286\n",
      "Epoch 36/50\n",
      "12/12 - 0s - 4ms/step - accuracy: 0.9835 - loss: 0.0299 - val_accuracy: 0.9512 - val_loss: 0.1282\n",
      "Epoch 37/50\n",
      "12/12 - 0s - 4ms/step - accuracy: 0.9972 - loss: 0.0289 - val_accuracy: 0.9512 - val_loss: 0.1242\n",
      "Epoch 38/50\n",
      "12/12 - 0s - 4ms/step - accuracy: 0.9972 - loss: 0.0266 - val_accuracy: 0.9512 - val_loss: 0.1224\n",
      "Epoch 39/50\n",
      "12/12 - 0s - 4ms/step - accuracy: 0.9972 - loss: 0.0259 - val_accuracy: 0.9512 - val_loss: 0.1229\n",
      "Epoch 40/50\n",
      "12/12 - 0s - 4ms/step - accuracy: 0.9972 - loss: 0.0255 - val_accuracy: 0.9512 - val_loss: 0.1224\n",
      "Epoch 41/50\n",
      "12/12 - 0s - 4ms/step - accuracy: 0.9972 - loss: 0.0260 - val_accuracy: 0.9512 - val_loss: 0.1202\n",
      "Epoch 42/50\n",
      "12/12 - 0s - 4ms/step - accuracy: 0.9972 - loss: 0.0241 - val_accuracy: 0.9512 - val_loss: 0.1215\n",
      "Epoch 43/50\n",
      "12/12 - 0s - 4ms/step - accuracy: 0.9972 - loss: 0.0235 - val_accuracy: 0.9512 - val_loss: 0.1197\n",
      "Epoch 44/50\n",
      "12/12 - 0s - 5ms/step - accuracy: 0.9972 - loss: 0.0233 - val_accuracy: 0.9512 - val_loss: 0.1172\n",
      "Epoch 45/50\n",
      "12/12 - 0s - 5ms/step - accuracy: 0.9972 - loss: 0.0236 - val_accuracy: 0.9512 - val_loss: 0.1192\n",
      "Epoch 46/50\n",
      "12/12 - 0s - 5ms/step - accuracy: 0.9972 - loss: 0.0251 - val_accuracy: 0.9512 - val_loss: 0.1171\n",
      "Epoch 47/50\n",
      "12/12 - 0s - 5ms/step - accuracy: 0.9972 - loss: 0.0214 - val_accuracy: 0.9512 - val_loss: 0.1189\n",
      "Epoch 48/50\n",
      "12/12 - 0s - 4ms/step - accuracy: 0.9890 - loss: 0.0235 - val_accuracy: 0.9512 - val_loss: 0.1193\n",
      "Epoch 49/50\n",
      "12/12 - 0s - 4ms/step - accuracy: 0.9972 - loss: 0.0241 - val_accuracy: 0.9512 - val_loss: 0.1135\n",
      "Epoch 50/50\n",
      "12/12 - 0s - 5ms/step - accuracy: 0.9972 - loss: 0.0234 - val_accuracy: 0.9512 - val_loss: 0.1216\n"
     ]
    },
    {
     "data": {
      "text/plain": [
       "<keras.src.callbacks.history.History at 0x7fc7fbd64650>"
      ]
     },
     "execution_count": 18,
     "metadata": {},
     "output_type": "execute_result"
    }
   ],
   "source": [
    "# Train model\n",
    "mlp_tf.fit(X_train_scaled, y_train, epochs=50, batch_size=32, validation_split=0.1, verbose=2)"
   ]
  },
  {
   "cell_type": "code",
   "execution_count": 19,
   "id": "6c32eb08-8606-47f0-beaa-bac7f454f889",
   "metadata": {},
   "outputs": [
    {
     "name": "stdout",
     "output_type": "stream",
     "text": [
      "Model saved as TensorFlow format in 'models/battery_stress_model.keras'\n"
     ]
    }
   ],
   "source": [
    "# Save model as keras\n",
    "mlp_tf.save(\"models/battery_stress_model.keras\")\n",
    "print(\"Model saved as TensorFlow format in 'models/battery_stress_model.keras'\")"
   ]
  },
  {
   "cell_type": "code",
   "execution_count": 22,
   "id": "6aed880f-cf70-4e74-8e73-38d0dc1f17a8",
   "metadata": {},
   "outputs": [
    {
     "name": "stdout",
     "output_type": "stream",
     "text": [
      "INFO:tensorflow:Assets written to: models/battery_stress_model/assets\n"
     ]
    },
    {
     "name": "stderr",
     "output_type": "stream",
     "text": [
      "INFO:tensorflow:Assets written to: models/battery_stress_model/assets\n"
     ]
    },
    {
     "name": "stdout",
     "output_type": "stream",
     "text": [
      "Model converted to SavedModel format\n"
     ]
    }
   ],
   "source": [
    "# Load model\n",
    "model = tf.keras.models.load_model(\"models/battery_stress_model.keras\")\n",
    "\n",
    "# Export SavedModel\n",
    "tf.saved_model.save(model, \"models/battery_stress_model\")\n",
    "\n",
    "print(\"Model converted to SavedModel format\")"
   ]
  },
  {
   "cell_type": "code",
   "execution_count": 31,
   "id": "be254bec-6c64-40df-8282-c4790748671a",
   "metadata": {},
   "outputs": [
    {
     "name": "stdout",
     "output_type": "stream",
     "text": [
      "[ INFO ] MO command line tool is considered as the legacy conversion API as of OpenVINO 2023.2 release.\n",
      "In 2025.0 MO command line tool and openvino.tools.mo.convert_model() will be removed. Please use OpenVINO Model Converter (OVC) or openvino.convert_model(). OVC represents a lightweight alternative of MO and provides simplified model conversion API. \n",
      "Find more information about transition from MO to OVC at https://docs.openvino.ai/2023.2/openvino_docs_OV_Converter_UG_prepare_model_convert_model_MO_OVC_transition.html\n",
      "2025-03-14 12:49:24.822154: E external/local_xla/xla/stream_executor/cuda/cuda_fft.cc:485] Unable to register cuFFT factory: Attempting to register factory for plugin cuFFT when one has already been registered\n",
      "2025-03-14 12:49:24.837320: E external/local_xla/xla/stream_executor/cuda/cuda_dnn.cc:8454] Unable to register cuDNN factory: Attempting to register factory for plugin cuDNN when one has already been registered\n",
      "2025-03-14 12:49:24.842057: E external/local_xla/xla/stream_executor/cuda/cuda_blas.cc:1452] Unable to register cuBLAS factory: Attempting to register factory for plugin cuBLAS when one has already been registered\n",
      "2025-03-14 12:49:24.857562: I tensorflow/core/platform/cpu_feature_guard.cc:210] This TensorFlow binary is optimized to use available CPU instructions in performance-critical operations.\n",
      "To enable the following instructions: AVX2 FMA, in other operations, rebuild TensorFlow with the appropriate compiler flags.\n",
      "2025-03-14 12:49:26.024181: W tensorflow/compiler/tf2tensorrt/utils/py_utils.cc:38] TF-TRT Warning: Could not find TensorRT\n",
      "[ INFO ] Generated IR will be compressed to FP16. If you get lower accuracy, please consider disabling compression explicitly by adding argument --compress_to_fp16=False.\n",
      "Find more information about compression to FP16 at https://docs.openvino.ai/2023.0/openvino_docs_MO_DG_FP16_Compression.html\n",
      "Check for a new version of Intel(R) Distribution of OpenVINO(TM) toolkit here https://software.intel.com/content/www/us/en/develop/tools/openvino-toolkit/download.html?cid=other&source=prod&campid=ww_2023_bu_IOTG_OpenVINO-2023-1&content=upg_all&medium=organic or on https://github.com/openvinotoolkit/openvino\n",
      "[ SUCCESS ] Generated IR version 11 model.\n",
      "[ SUCCESS ] XML file: /opt/app-root/src/battery-training/models/battery_stress_model/saved_model.xml\n",
      "[ SUCCESS ] BIN file: /opt/app-root/src/battery-training/models/battery_stress_model/saved_model.bin\n"
     ]
    }
   ],
   "source": [
    "!mo --saved_model_dir models/battery_stress_model --output_dir models/battery_stress_model"
   ]
  }
 ],
 "metadata": {
  "kernelspec": {
   "display_name": "Python 3.11",
   "language": "python",
   "name": "python3"
  },
  "language_info": {
   "codemirror_mode": {
    "name": "ipython",
    "version": 3
   },
   "file_extension": ".py",
   "mimetype": "text/x-python",
   "name": "python",
   "nbconvert_exporter": "python",
   "pygments_lexer": "ipython3",
   "version": "3.11.7"
  }
 },
 "nbformat": 4,
 "nbformat_minor": 5
}
